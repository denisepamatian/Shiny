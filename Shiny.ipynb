{
  "nbformat": 4,
  "nbformat_minor": 0,
  "metadata": {
    "colab": {
      "provenance": []
    },
    "kernelspec": {
      "name": "python3",
      "display_name": "Python 3"
    },
    "language_info": {
      "name": "python"
    }
  },
  "cells": [
    {
      "cell_type": "code",
      "execution_count": null,
      "metadata": {
        "colab": {
          "base_uri": "https://localhost:8080/"
        },
        "id": "xxm47ptmg8Dz",
        "outputId": "35993e6d-bfd6-4759-87fe-76b56c882e1b"
      },
      "outputs": [
        {
          "output_type": "stream",
          "name": "stdout",
          "text": [
            "Requirement already satisfied: scikit-learn in /usr/local/lib/python3.10/dist-packages (1.2.2)\n",
            "Requirement already satisfied: numpy>=1.17.3 in /usr/local/lib/python3.10/dist-packages (from scikit-learn) (1.22.4)\n",
            "Requirement already satisfied: scipy>=1.3.2 in /usr/local/lib/python3.10/dist-packages (from scikit-learn) (1.10.1)\n",
            "Requirement already satisfied: joblib>=1.1.1 in /usr/local/lib/python3.10/dist-packages (from scikit-learn) (1.3.1)\n",
            "Requirement already satisfied: threadpoolctl>=2.0.0 in /usr/local/lib/python3.10/dist-packages (from scikit-learn) (3.2.0)\n",
            "Collecting shinylive\n",
            "  Downloading shinylive-0.0.15-py3-none-any.whl (17 kB)\n",
            "Collecting shiny (from shinylive)\n",
            "  Downloading shiny-0.5.0-py3-none-any.whl (3.3 MB)\n",
            "\u001b[2K     \u001b[90m━━━━━━━━━━━━━━━━━━━━━━━━━━━━━━━━━━━━━━━━\u001b[0m \u001b[32m3.3/3.3 MB\u001b[0m \u001b[31m36.2 MB/s\u001b[0m eta \u001b[36m0:00:00\u001b[0m\n",
            "\u001b[?25hRequirement already satisfied: click>=8.0.3 in /usr/local/lib/python3.10/dist-packages (from shinylive) (8.1.6)\n",
            "Requirement already satisfied: appdirs>=1.4.4 in /usr/local/lib/python3.10/dist-packages (from shinylive) (1.4.4)\n",
            "Requirement already satisfied: typing-extensions>=4.0.1 in /usr/local/lib/python3.10/dist-packages (from shiny->shinylive) (4.7.1)\n",
            "Collecting uvicorn>=0.16.0 (from shiny->shinylive)\n",
            "  Downloading uvicorn-0.23.2-py3-none-any.whl (59 kB)\n",
            "\u001b[2K     \u001b[90m━━━━━━━━━━━━━━━━━━━━━━━━━━━━━━━━━━━━━━━━\u001b[0m \u001b[32m59.5/59.5 kB\u001b[0m \u001b[31m8.5 MB/s\u001b[0m eta \u001b[36m0:00:00\u001b[0m\n",
            "\u001b[?25hCollecting starlette>=0.17.1 (from shiny->shinylive)\n",
            "  Downloading starlette-0.31.0-py3-none-any.whl (69 kB)\n",
            "\u001b[2K     \u001b[90m━━━━━━━━━━━━━━━━━━━━━━━━━━━━━━━━━━━━━━━━\u001b[0m \u001b[32m69.8/69.8 kB\u001b[0m \u001b[31m8.6 MB/s\u001b[0m eta \u001b[36m0:00:00\u001b[0m\n",
            "\u001b[?25hCollecting websockets>=10.0 (from shiny->shinylive)\n",
            "  Downloading websockets-11.0.3-cp310-cp310-manylinux_2_5_x86_64.manylinux1_x86_64.manylinux_2_17_x86_64.manylinux2014_x86_64.whl (129 kB)\n",
            "\u001b[2K     \u001b[90m━━━━━━━━━━━━━━━━━━━━━━━━━━━━━━━━━━━━━━\u001b[0m \u001b[32m129.9/129.9 kB\u001b[0m \u001b[31m19.3 MB/s\u001b[0m eta \u001b[36m0:00:00\u001b[0m\n",
            "\u001b[?25hCollecting python-multipart (from shiny->shinylive)\n",
            "  Downloading python_multipart-0.0.6-py3-none-any.whl (45 kB)\n",
            "\u001b[2K     \u001b[90m━━━━━━━━━━━━━━━━━━━━━━━━━━━━━━━━━━━━━━━━\u001b[0m \u001b[32m45.7/45.7 kB\u001b[0m \u001b[31m6.4 MB/s\u001b[0m eta \u001b[36m0:00:00\u001b[0m\n",
            "\u001b[?25hCollecting htmltools>=0.2.1 (from shiny->shinylive)\n",
            "  Downloading htmltools-0.3.0-py3-none-any.whl (79 kB)\n",
            "\u001b[2K     \u001b[90m━━━━━━━━━━━━━━━━━━━━━━━━━━━━━━━━━━━━━━━━\u001b[0m \u001b[32m80.0/80.0 kB\u001b[0m \u001b[31m10.2 MB/s\u001b[0m eta \u001b[36m0:00:00\u001b[0m\n",
            "\u001b[?25hRequirement already satisfied: markdown-it-py>=1.1.0 in /usr/local/lib/python3.10/dist-packages (from shiny->shinylive) (3.0.0)\n",
            "Requirement already satisfied: mdit-py-plugins>=0.3.0 in /usr/local/lib/python3.10/dist-packages (from shiny->shinylive) (0.4.0)\n",
            "Requirement already satisfied: linkify-it-py>=1.0 in /usr/local/lib/python3.10/dist-packages (from shiny->shinylive) (2.0.2)\n",
            "Collecting asgiref>=3.5.2 (from shiny->shinylive)\n",
            "  Downloading asgiref-3.7.2-py3-none-any.whl (24 kB)\n",
            "Collecting watchfiles>=0.18.0 (from shiny->shinylive)\n",
            "  Downloading watchfiles-0.19.0-cp37-abi3-manylinux_2_17_x86_64.manylinux2014_x86_64.whl (1.3 MB)\n",
            "\u001b[2K     \u001b[90m━━━━━━━━━━━━━━━━━━━━━━━━━━━━━━━━━━━━━━━━\u001b[0m \u001b[32m1.3/1.3 MB\u001b[0m \u001b[31m93.9 MB/s\u001b[0m eta \u001b[36m0:00:00\u001b[0m\n",
            "\u001b[?25hRequirement already satisfied: packaging>=20.9 in /usr/local/lib/python3.10/dist-packages (from htmltools>=0.2.1->shiny->shinylive) (23.1)\n",
            "Requirement already satisfied: uc-micro-py in /usr/local/lib/python3.10/dist-packages (from linkify-it-py>=1.0->shiny->shinylive) (1.0.2)\n",
            "Requirement already satisfied: mdurl~=0.1 in /usr/local/lib/python3.10/dist-packages (from markdown-it-py>=1.1.0->shiny->shinylive) (0.1.2)\n",
            "Requirement already satisfied: anyio<5,>=3.4.0 in /usr/local/lib/python3.10/dist-packages (from starlette>=0.17.1->shiny->shinylive) (3.7.1)\n",
            "Collecting h11>=0.8 (from uvicorn>=0.16.0->shiny->shinylive)\n",
            "  Downloading h11-0.14.0-py3-none-any.whl (58 kB)\n",
            "\u001b[2K     \u001b[90m━━━━━━━━━━━━━━━━━━━━━━━━━━━━━━━━━━━━━━━━\u001b[0m \u001b[32m58.3/58.3 kB\u001b[0m \u001b[31m7.5 MB/s\u001b[0m eta \u001b[36m0:00:00\u001b[0m\n",
            "\u001b[?25hRequirement already satisfied: idna>=2.8 in /usr/local/lib/python3.10/dist-packages (from anyio<5,>=3.4.0->starlette>=0.17.1->shiny->shinylive) (3.4)\n",
            "Requirement already satisfied: sniffio>=1.1 in /usr/local/lib/python3.10/dist-packages (from anyio<5,>=3.4.0->starlette>=0.17.1->shiny->shinylive) (1.3.0)\n",
            "Requirement already satisfied: exceptiongroup in /usr/local/lib/python3.10/dist-packages (from anyio<5,>=3.4.0->starlette>=0.17.1->shiny->shinylive) (1.1.2)\n",
            "Installing collected packages: websockets, python-multipart, htmltools, h11, asgiref, watchfiles, uvicorn, starlette, shiny, shinylive\n",
            "Successfully installed asgiref-3.7.2 h11-0.14.0 htmltools-0.3.0 python-multipart-0.0.6 shiny-0.5.0 shinylive-0.0.15 starlette-0.31.0 uvicorn-0.23.2 watchfiles-0.19.0 websockets-11.0.3\n"
          ]
        }
      ],
      "source": [
        "! pip install scikit-learn\n",
        "! pip install shinylive\n"
      ]
    },
    {
      "cell_type": "code",
      "source": [
        "! shiny create myapp\n",
        "! shinylive export myapp site"
      ],
      "metadata": {
        "colab": {
          "base_uri": "https://localhost:8080/"
        },
        "id": "CiXPIHbUiLcn",
        "outputId": "f225ba63-9fbb-4c12-a7ed-4d1549635617"
      },
      "execution_count": null,
      "outputs": [
        {
          "output_type": "stream",
          "name": "stdout",
          "text": [
            "Created Shiny app at myapp/app.py\n",
            "Creating site/\n",
            "Copying base Shinylive files from /root/.cache/shinylive/shinylive-0.1.4/ to site/\n",
            "Creating directory /root/.cache/shinylive\n",
            "/root/.cache/shinylive/shinylive-0.1.4 does not exist.\n",
            "Downloading https://github.com/rstudio/shinylive/releases/download/v0.1.4/shinylive-0.1.4.tar.gz...\n",
            "Unzipping to /root/.cache/shinylive/\n",
            "Copying imported packages from /root/.cache/shinylive/shinylive-0.1.4/shinylive/pyodide/ to site/shinylive/pyodide/\n",
            "Writing site/app.json: 396 bytes\n",
            "\n",
            "Run the following to serve the app:\n",
            "  python3 -m http.server --directory site --bind localhost 8008\n"
          ]
        }
      ]
    },
    {
      "cell_type": "code",
      "source": [
        "\n",
        "from shiny import App, render, ui\n",
        "\n",
        "app_ui = ui.page_fluid(\n",
        "    ui.input_slider(\"n\", \"N\", 0, 100, 20),\n",
        "    ui.output_text_verbatim(\"txt\"),\n",
        ")\n",
        "\n",
        "\n",
        "def server(input, output, session):\n",
        "    @output\n",
        "    @render.text\n",
        "    def txt():\n",
        "        return f\"n*2 is {input.n() * 2}\"\n",
        "\n",
        "\n",
        "app = App(app_ui, server)"
      ],
      "metadata": {
        "id": "0LNKUbAAiB7c"
      },
      "execution_count": null,
      "outputs": []
    }
  ]
}